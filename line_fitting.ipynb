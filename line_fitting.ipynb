{
 "cells": [
  {
   "cell_type": "code",
   "execution_count": null,
   "metadata": {},
   "outputs": [],
   "source": [
    "%matplotlib inline\n",
    "import matplotlib.pyplot as plt\n",
    "import numpy as np"
   ]
  },
  {
   "cell_type": "markdown",
   "metadata": {},
   "source": [
    "generate random data"
   ]
  },
  {
   "cell_type": "code",
   "execution_count": null,
   "metadata": {},
   "outputs": [],
   "source": [
    "np.random.seed(119)              #random number seed\n",
    "\n",
    "npoints = 50                     #number of data points\n",
    "\n",
    "x = np.linspace(0,10.,npoints)   #set x\n",
    "\n",
    "m = 2.0         #slope\n",
    "b = 1.0         #intercept\n",
    "sigma = 2.0     #scatter rms\n",
    "\n",
    "#generate y points\n",
    "y = m*x + b + np.random.normal(scale=sigma,size=npoints)   #'normal' = gaussian\n",
    "y_err = np.full(npoints,sigma)                             #y error"
   ]
  },
  {
   "cell_type": "markdown",
   "metadata": {},
   "source": [
    "## plot the data !"
   ]
  },
  {
   "cell_type": "code",
   "execution_count": null,
   "metadata": {},
   "outputs": [],
   "source": [
    "f = plt.figure(figsize=(7,7))     #tuple, 7 x 7 in\n",
    "plt.errorbar(x,y,sigma,fmt='o')   #error bars, fmt = format (big ol dots)\n",
    "plt.xlabel('x')\n",
    "plt.ylabel('y')\n",
    "\n",
    "#same seed and same random generator creates same 'random' points"
   ]
  },
  {
   "cell_type": "markdown",
   "metadata": {},
   "source": [
    "## method 1: polyfit()\n",
    "\n",
    "polynomial fit"
   ]
  },
  {
   "cell_type": "code",
   "execution_count": null,
   "metadata": {},
   "outputs": [],
   "source": [
    "m_fit, b_fit = np.poly1d(np.polyfit(x, y, 1, w=1./y_err))   #first order polynomial\n",
    "                                                            #y error by 2s, should be zero\n",
    "                                                            #bc we are dividing 1. by error\n",
    "print(m_fit, b_fit)                                         #fit for slope and intercept\n",
    "\n",
    "y_fit = m_fit * x + b_fit                                   #fit function"
   ]
  },
  {
   "cell_type": "code",
   "execution_count": null,
   "metadata": {},
   "outputs": [],
   "source": [
    "f = plt.figure(figsize=(7,7))\n",
    "plt.errorbar(x,y,yerr=y_err,fmt='o',label='data')   #plot error bars, yerr = bars can vary\n",
    "plt.plot(x,y_fit,label='fit')                       #fit line\n",
    "plt.xlabel('x')\n",
    "plt.ylabel('y')\n",
    "plt.legend(loc=2,frameon=False)                     #legend left hand, no frame\n",
    "\n",
    "#polynomial fits - the higher the order the noisier the plot can get"
   ]
  },
  {
   "cell_type": "markdown",
   "metadata": {},
   "source": [
    "## method 2: scipy + optimize\n",
    "\n",
    "more sophisticated and blah"
   ]
  },
  {
   "cell_type": "code",
   "execution_count": null,
   "metadata": {},
   "outputs": [],
   "source": [
    "#import optimize from scipy\n",
    "from scipy import optimize\n",
    "\n",
    "#define the function\n",
    "def f_line(x, m, b):\n",
    "    return m*x + b\n",
    "\n",
    "#perform the fit\n",
    "params, params_cov = optimize.curve_fit(f_line,x,y,sigma=y_err)   #best fit parameters\n",
    "                                                                  #for a curve\n",
    "m_fit = params[0]       #zeroth element\n",
    "b_fit = params[1]       #first element\n",
    "print(m_fit,b_fit)      #uses the same values as above\n",
    "\n",
    "#not exactly the same as polyfit, uses numerical algorithm"
   ]
  },
  {
   "cell_type": "code",
   "execution_count": null,
   "metadata": {},
   "outputs": [],
   "source": [
    "f = plt.figure(figsize=(7,7))\n",
    "plt.errorbar(x,y,yerr=y_err,fmt='o',label='data')\n",
    "plt.plot(x,y_fit,label='fit')\n",
    "plt.xlabel('x')\n",
    "plt.ylabel('y')\n",
    "plt.legend(loc=2,frameon=False)"
   ]
  },
  {
   "cell_type": "markdown",
   "metadata": {},
   "source": [
    "for more complicated fits..."
   ]
  },
  {
   "cell_type": "code",
   "execution_count": null,
   "metadata": {},
   "outputs": [],
   "source": [
    "#redefine x and y\n",
    "npoints = 50\n",
    "x = np.linspace(0,2*np.pi,npoints)\n",
    "\n",
    "#make y a complicated function\n",
    "a = 3.4\n",
    "b = 2.1\n",
    "c = 0.27\n",
    "d = -1.3\n",
    "sig = 0.6\n",
    "\n",
    "y = a * np.sin(b*x + c) + d + np.random.normal(scale=sig,size=npoints)   #sin curve\n",
    "y_err = np.full(npoints,sig)\n",
    "\n",
    "f = plt.figure(figsize=(7,7))\n",
    "plt.errorbar(x,y,yerr=y_err,fmt='o')\n",
    "plt.xlabel('x')\n",
    "plt.ylabel('y')"
   ]
  },
  {
   "cell_type": "code",
   "execution_count": null,
   "metadata": {},
   "outputs": [],
   "source": [
    "from scipy import optimize\n",
    "\n",
    "def f_line(x, a, b, c, d):\n",
    "    return a * np.sin(b*x + c) + d\n",
    "\n",
    "params, params_cov = optimize.curve_fit(f_line,x,y,sigma=y_err,p0=[1,2.,0.1,-0.1])\n",
    "\n",
    "a_fit = params[0]\n",
    "b_fit = params[1]\n",
    "c_fit = params[2]\n",
    "d_fit = params[3]\n",
    "\n",
    "print(a_fit,b_fit,c_fit,d_fit)\n",
    "\n",
    "y_fit = a_fit * np.sin(b_fit * x + c_fit) + d_fit"
   ]
  },
  {
   "cell_type": "code",
   "execution_count": null,
   "metadata": {},
   "outputs": [],
   "source": [
    "f = plt.figure(figsize=(7,7))\n",
    "plt.errorbar(x,y,yerr=y_err,fmt='o',label='data')\n",
    "plt.plot(x,y_fit,label='fit')\n",
    "plt.xlabel('x')\n",
    "plt.ylabel('y')\n",
    "plt.legend(loc=0,frameon=False)"
   ]
  },
  {
   "cell_type": "code",
   "execution_count": null,
   "metadata": {},
   "outputs": [],
   "source": []
  }
 ],
 "metadata": {
  "kernelspec": {
   "display_name": "Python 3",
   "language": "python",
   "name": "python3"
  },
  "language_info": {
   "codemirror_mode": {
    "name": "ipython",
    "version": 3
   },
   "file_extension": ".py",
   "mimetype": "text/x-python",
   "name": "python",
   "nbconvert_exporter": "python",
   "pygments_lexer": "ipython3",
   "version": "3.6.5"
  }
 },
 "nbformat": 4,
 "nbformat_minor": 2
}
